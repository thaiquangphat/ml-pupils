{
 "cells": [
  {
   "cell_type": "code",
   "execution_count": 1,
   "metadata": {},
   "outputs": [],
   "source": [
    "import sys\n",
    "import os\n",
    "sys.path.append(os.path.abspath('../../../src'))\n",
    "\n",
    "import torch\n",
    "from utils.utils import get_latest_model_path\n",
    "from utils.dataloader import get_dataset, get_saved_numpy"
   ]
  },
  {
   "cell_type": "code",
   "execution_count": 6,
   "metadata": {},
   "outputs": [
    {
     "name": "stdout",
     "output_type": "stream",
     "text": [
      "../../../src/results/models/ann/ann_03032025_23-52-26.pt\n"
     ]
    }
   ],
   "source": [
    "model_path = \"../../../src/results/models/ann/ann_03032025_23-52-26.pt\"\n",
    "print(model_path)"
   ]
  },
  {
   "cell_type": "code",
   "execution_count": 7,
   "metadata": {},
   "outputs": [],
   "source": [
    "model = torch.load(model_path)\n",
    "params = model[\"model_state\"]"
   ]
  },
  {
   "cell_type": "code",
   "execution_count": 12,
   "metadata": {},
   "outputs": [
    {
     "data": {
      "text/plain": [
       "odict_keys(['features.0.weight', 'features.0.bias', 'features.1.weight', 'features.1.bias', 'features.1.running_mean', 'features.1.running_var', 'features.1.num_batches_tracked', 'features.4.weight', 'features.4.bias', 'features.5.weight', 'features.5.bias', 'features.5.running_mean', 'features.5.running_var', 'features.5.num_batches_tracked', 'classifier.0.weight', 'classifier.0.bias', 'classifier.2.weight', 'classifier.2.bias', 'classifier.4.weight', 'classifier.4.bias'])"
      ]
     },
     "execution_count": 12,
     "metadata": {},
     "output_type": "execute_result"
    }
   ],
   "source": [
    "params.keys()"
   ]
  },
  {
   "cell_type": "code",
   "execution_count": 16,
   "metadata": {},
   "outputs": [
    {
     "data": {
      "image/png": "[encoded data removed]",
      "text/plain": [
       "<Figure size 1000x1000 with 6 Axes>"
      ]
     },
     "metadata": {},
     "output_type": "display_data"
    }
   ],
   "source": [
    "import matplotlib.pyplot as plt\n",
    "import numpy as np\n",
    "\n",
    "# Convert weights to NumPy array\n",
    "weights = params['features.0.weight']\n",
    "weights = weights.cpu().numpy()\n",
    "\n",
    "# Normalize values for better visualization\n",
    "weights_min, weights_max = weights.min(), weights.max()\n",
    "weights = (weights - weights_min) / (weights_max - weights_min)\n",
    "\n",
    "# Number of filters (out_channels)\n",
    "num_filters = weights.shape[0]\n",
    "num_channels = weights.shape[1]\n",
    "\n",
    "# Plot the first few filters\n",
    "fig, axes = plt.subplots(1,6, figsize=(10, 10))  # Adjust grid for filter count\n",
    "axes = axes.ravel()\n",
    "\n",
    "for i in range(min(64, num_filters)):  # Show up to 64 filters\n",
    "        axes[i*num_channels + j].imshow(weights[i, 0], cmap=\"gray\")  # Show only first channel\n",
    "        axes[i*num_channels + j].axis(\"off\")\n",
    "\n",
    "plt.show()\n"
   ]
  }
 ],
 "metadata": {
  "kernelspec": {
   "display_name": "mlenv",
   "language": "python",
   "name": "python3"
  },
  "language_info": {
   "codemirror_mode": {
    "name": "ipython",
    "version": 3
   },
   "file_extension": ".py",
   "mimetype": "text/x-python",
   "name": "python",
   "nbconvert_exporter": "python",
   "pygments_lexer": "ipython3",
   "version": "3.13.2"
  }
 },
 "nbformat": 4,
 "nbformat_minor": 2
}
