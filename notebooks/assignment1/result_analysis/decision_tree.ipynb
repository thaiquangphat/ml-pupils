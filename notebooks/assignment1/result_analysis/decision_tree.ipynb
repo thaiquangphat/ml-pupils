{
 "cells": [
  {
   "cell_type": "code",
   "execution_count": 7,
   "metadata": {},
   "outputs": [],
   "source": [
    "import sys\n",
    "import os\n",
    "\n",
    "# Add 'src' to sys.path\n",
    "sys.path.append(os.path.abspath('../../../src'))\n",
    "\n",
    "# Import modules correctly\n",
    "from utils.utils import get_latest_model_path\n",
    "from utils.dataloader import get_dataset, get_saved_numpy\n"
   ]
  },
  {
   "cell_type": "code",
   "execution_count": 20,
   "metadata": {},
   "outputs": [
    {
     "name": "stdout",
     "output_type": "stream",
     "text": [
      "d:\\hcmut\\SV242\\ML\\ml-pupils\\notebooks\\assignment1\\result_analysis\n"
     ]
    }
   ],
   "source": [
    "!cd"
   ]
  }
 ],
 "metadata": {
  "kernelspec": {
   "display_name": "mlenv",
   "language": "python",
   "name": "python3"
  },
  "language_info": {
   "codemirror_mode": {
    "name": "ipython",
    "version": 3
   },
   "file_extension": ".py",
   "mimetype": "text/x-python",
   "name": "python",
   "nbconvert_exporter": "python",
   "pygments_lexer": "ipython3",
   "version": "3.13.2"
  }
 },
 "nbformat": 4,
 "nbformat_minor": 2
}
